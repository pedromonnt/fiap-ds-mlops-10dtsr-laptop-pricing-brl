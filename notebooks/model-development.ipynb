{
 "cells": [
  {
   "cell_type": "markdown",
   "id": "b7257597",
   "metadata": {},
   "source": [
    "## Desenvolvimento do modelo de predição de preço\n",
    "\n",
    "Exploração inicial de modelos de base"
   ]
  },
  {
   "cell_type": "code",
   "execution_count": 1,
   "id": "40bfcab9",
   "metadata": {},
   "outputs": [],
   "source": [
    "import pandas as pd\n",
    "from dagshub.data_engine import datasources\n",
    "import mlflow\n",
    "import dagshub\n",
    "from sklearn.model_selection import train_test_split\n",
    "import mlflow.sklearn\n",
    "import mlflow.catboost\n",
    "from sklearn.linear_model import Ridge\n",
    "from sklearn.model_selection import GridSearchCV\n",
    "from sklearn.metrics import make_scorer, mean_squared_error, mean_absolute_error, r2_score, mean_absolute_percentage_error\n",
    "from sklearn.tree import DecisionTreeRegressor\n",
    "from sklearn.neural_network import MLPRegressor\n",
    "from xgboost import XGBRegressor\n",
    "import lightgbm as lgb\n",
    "from sklearn.svm import SVR\n",
    "from sklearn.gaussian_process import GaussianProcessRegressor\n",
    "from sklearn.gaussian_process.kernels import RBF, ConstantKernel as C\n",
    "import mlflow.models.signature\n",
    "from mlflow.models import infer_signature\n",
    "from catboost import CatBoostRegressor"
   ]
  },
  {
   "cell_type": "code",
   "execution_count": 4,
   "id": "11430c23",
   "metadata": {},
   "outputs": [],
   "source": [
    "ds = datasources.get_datasource(\"pedromonnt/fiap-ds-mlops-10dtsr-laptop-pricing-brl\",\"processed\")"
   ]
  },
  {
   "cell_type": "code",
   "execution_count": 5,
   "id": "273eaa53",
   "metadata": {},
   "outputs": [
    {
     "data": {
      "application/vnd.jupyter.widget-view+json": {
       "model_id": "4a284a1a825443aab581f7c5f3c00e67",
       "version_major": 2,
       "version_minor": 0
      },
      "text/plain": [
       "Output()"
      ]
     },
     "metadata": {},
     "output_type": "display_data"
    },
    {
     "data": {
      "text/html": [
       "<pre style=\"white-space:pre;overflow-x:auto;line-height:normal;font-family:Menlo,'DejaVu Sans Mono',consolas,'Courier New',monospace\"></pre>\n"
      ],
      "text/plain": []
     },
     "metadata": {},
     "output_type": "display_data"
    },
    {
     "data": {
      "text/html": [
       "<div>\n",
       "<style scoped>\n",
       "    .dataframe tbody tr th:only-of-type {\n",
       "        vertical-align: middle;\n",
       "    }\n",
       "\n",
       "    .dataframe tbody tr th {\n",
       "        vertical-align: top;\n",
       "    }\n",
       "\n",
       "    .dataframe thead th {\n",
       "        text-align: right;\n",
       "    }\n",
       "</style>\n",
       "<table border=\"1\" class=\"dataframe\">\n",
       "  <thead>\n",
       "    <tr style=\"text-align: right;\">\n",
       "      <th></th>\n",
       "      <th>path</th>\n",
       "      <th>datapoint_id</th>\n",
       "      <th>dagshub_download_url</th>\n",
       "      <th>media type</th>\n",
       "      <th>size</th>\n",
       "    </tr>\n",
       "  </thead>\n",
       "  <tbody>\n",
       "    <tr>\n",
       "      <th>0</th>\n",
       "      <td>laptop-price-brl-processed.csv</td>\n",
       "      <td>102408450</td>\n",
       "      <td>https://dagshub.com/api/v1/repos/pedromonnt/fi...</td>\n",
       "      <td>text/plain</td>\n",
       "      <td>52559</td>\n",
       "    </tr>\n",
       "  </tbody>\n",
       "</table>\n",
       "</div>"
      ],
      "text/plain": [
       "                             path  datapoint_id  \\\n",
       "0  laptop-price-brl-processed.csv     102408450   \n",
       "\n",
       "                                dagshub_download_url  media type   size  \n",
       "0  https://dagshub.com/api/v1/repos/pedromonnt/fi...  text/plain  52559  "
      ]
     },
     "execution_count": 5,
     "metadata": {},
     "output_type": "execute_result"
    }
   ],
   "source": [
    "ds.all().dataframe"
   ]
  },
  {
   "cell_type": "code",
   "execution_count": 6,
   "id": "ec2d1ce2",
   "metadata": {},
   "outputs": [
    {
     "data": {
      "application/vnd.jupyter.widget-view+json": {
       "model_id": "18699bcd5f7a42a28797e135d64da6df",
       "version_major": 2,
       "version_minor": 0
      },
      "text/plain": [
       "Output()"
      ]
     },
     "metadata": {},
     "output_type": "display_data"
    },
    {
     "data": {
      "text/html": [
       "<pre style=\"white-space:pre;overflow-x:auto;line-height:normal;font-family:Menlo,'DejaVu Sans Mono',consolas,'Courier New',monospace\"></pre>\n"
      ],
      "text/plain": []
     },
     "metadata": {},
     "output_type": "display_data"
    }
   ],
   "source": [
    "res = ds.head()\n",
    "\n",
    "for dp in res:\n",
    "    dataset_url = dp.download_url"
   ]
  },
  {
   "cell_type": "code",
   "execution_count": 7,
   "id": "49d4b960",
   "metadata": {},
   "outputs": [
    {
     "data": {
      "text/plain": [
       "'https://dagshub.com/api/v1/repos/pedromonnt/fiap-ds-mlops-10dtsr-laptop-pricing-brl/raw/main/data/processed/laptop-price-brl-processed.csv'"
      ]
     },
     "execution_count": 7,
     "metadata": {},
     "output_type": "execute_result"
    }
   ],
   "source": [
    "dataset_url"
   ]
  },
  {
   "cell_type": "code",
   "execution_count": 8,
   "id": "163cd2ae",
   "metadata": {},
   "outputs": [
    {
     "data": {
      "text/html": [
       "<div>\n",
       "<style scoped>\n",
       "    .dataframe tbody tr th:only-of-type {\n",
       "        vertical-align: middle;\n",
       "    }\n",
       "\n",
       "    .dataframe tbody tr th {\n",
       "        vertical-align: top;\n",
       "    }\n",
       "\n",
       "    .dataframe thead th {\n",
       "        text-align: right;\n",
       "    }\n",
       "</style>\n",
       "<table border=\"1\" class=\"dataframe\">\n",
       "  <thead>\n",
       "    <tr style=\"text-align: right;\">\n",
       "      <th></th>\n",
       "      <th>ram_gb</th>\n",
       "      <th>ssd</th>\n",
       "      <th>hdd</th>\n",
       "      <th>graphic_card_gb</th>\n",
       "      <th>warranty</th>\n",
       "      <th>touchscreen</th>\n",
       "      <th>price</th>\n",
       "      <th>brand_asus</th>\n",
       "      <th>brand_dell</th>\n",
       "      <th>brand_hp</th>\n",
       "      <th>...</th>\n",
       "      <th>processor_name_ryzen 7</th>\n",
       "      <th>ram_type_ddr4</th>\n",
       "      <th>ram_type_other</th>\n",
       "      <th>os_other</th>\n",
       "      <th>os_windows</th>\n",
       "      <th>os_bit_32-bit</th>\n",
       "      <th>os_bit_64-bit</th>\n",
       "      <th>weight_casual</th>\n",
       "      <th>weight_gaming</th>\n",
       "      <th>weight_thinnlight</th>\n",
       "    </tr>\n",
       "  </thead>\n",
       "  <tbody>\n",
       "    <tr>\n",
       "      <th>0</th>\n",
       "      <td>4</td>\n",
       "      <td>0</td>\n",
       "      <td>1024</td>\n",
       "      <td>0</td>\n",
       "      <td>0</td>\n",
       "      <td>0</td>\n",
       "      <td>2321</td>\n",
       "      <td>1</td>\n",
       "      <td>0</td>\n",
       "      <td>0</td>\n",
       "      <td>...</td>\n",
       "      <td>0</td>\n",
       "      <td>1</td>\n",
       "      <td>0</td>\n",
       "      <td>0</td>\n",
       "      <td>1</td>\n",
       "      <td>0</td>\n",
       "      <td>1</td>\n",
       "      <td>1</td>\n",
       "      <td>0</td>\n",
       "      <td>0</td>\n",
       "    </tr>\n",
       "    <tr>\n",
       "      <th>1</th>\n",
       "      <td>4</td>\n",
       "      <td>0</td>\n",
       "      <td>1024</td>\n",
       "      <td>0</td>\n",
       "      <td>0</td>\n",
       "      <td>0</td>\n",
       "      <td>2613</td>\n",
       "      <td>0</td>\n",
       "      <td>0</td>\n",
       "      <td>0</td>\n",
       "      <td>...</td>\n",
       "      <td>0</td>\n",
       "      <td>1</td>\n",
       "      <td>0</td>\n",
       "      <td>0</td>\n",
       "      <td>1</td>\n",
       "      <td>0</td>\n",
       "      <td>1</td>\n",
       "      <td>1</td>\n",
       "      <td>0</td>\n",
       "      <td>0</td>\n",
       "    </tr>\n",
       "    <tr>\n",
       "      <th>2</th>\n",
       "      <td>4</td>\n",
       "      <td>0</td>\n",
       "      <td>1024</td>\n",
       "      <td>0</td>\n",
       "      <td>0</td>\n",
       "      <td>0</td>\n",
       "      <td>2680</td>\n",
       "      <td>0</td>\n",
       "      <td>0</td>\n",
       "      <td>0</td>\n",
       "      <td>...</td>\n",
       "      <td>0</td>\n",
       "      <td>1</td>\n",
       "      <td>0</td>\n",
       "      <td>0</td>\n",
       "      <td>1</td>\n",
       "      <td>0</td>\n",
       "      <td>1</td>\n",
       "      <td>1</td>\n",
       "      <td>0</td>\n",
       "      <td>0</td>\n",
       "    </tr>\n",
       "    <tr>\n",
       "      <th>3</th>\n",
       "      <td>8</td>\n",
       "      <td>512</td>\n",
       "      <td>0</td>\n",
       "      <td>2</td>\n",
       "      <td>0</td>\n",
       "      <td>0</td>\n",
       "      <td>4689</td>\n",
       "      <td>1</td>\n",
       "      <td>0</td>\n",
       "      <td>0</td>\n",
       "      <td>...</td>\n",
       "      <td>0</td>\n",
       "      <td>1</td>\n",
       "      <td>0</td>\n",
       "      <td>0</td>\n",
       "      <td>1</td>\n",
       "      <td>1</td>\n",
       "      <td>0</td>\n",
       "      <td>1</td>\n",
       "      <td>0</td>\n",
       "      <td>0</td>\n",
       "    </tr>\n",
       "    <tr>\n",
       "      <th>4</th>\n",
       "      <td>4</td>\n",
       "      <td>0</td>\n",
       "      <td>512</td>\n",
       "      <td>0</td>\n",
       "      <td>0</td>\n",
       "      <td>0</td>\n",
       "      <td>1808</td>\n",
       "      <td>1</td>\n",
       "      <td>0</td>\n",
       "      <td>0</td>\n",
       "      <td>...</td>\n",
       "      <td>0</td>\n",
       "      <td>1</td>\n",
       "      <td>0</td>\n",
       "      <td>0</td>\n",
       "      <td>1</td>\n",
       "      <td>0</td>\n",
       "      <td>1</td>\n",
       "      <td>1</td>\n",
       "      <td>0</td>\n",
       "      <td>0</td>\n",
       "    </tr>\n",
       "  </tbody>\n",
       "</table>\n",
       "<p>5 rows × 30 columns</p>\n",
       "</div>"
      ],
      "text/plain": [
       "   ram_gb  ssd   hdd  graphic_card_gb  warranty  touchscreen  price  \\\n",
       "0       4    0  1024                0         0            0   2321   \n",
       "1       4    0  1024                0         0            0   2613   \n",
       "2       4    0  1024                0         0            0   2680   \n",
       "3       8  512     0                2         0            0   4689   \n",
       "4       4    0   512                0         0            0   1808   \n",
       "\n",
       "   brand_asus  brand_dell  brand_hp  ...  processor_name_ryzen 7  \\\n",
       "0           1           0         0  ...                       0   \n",
       "1           0           0         0  ...                       0   \n",
       "2           0           0         0  ...                       0   \n",
       "3           1           0         0  ...                       0   \n",
       "4           1           0         0  ...                       0   \n",
       "\n",
       "   ram_type_ddr4  ram_type_other  os_other  os_windows  os_bit_32-bit  \\\n",
       "0              1               0         0           1              0   \n",
       "1              1               0         0           1              0   \n",
       "2              1               0         0           1              0   \n",
       "3              1               0         0           1              1   \n",
       "4              1               0         0           1              0   \n",
       "\n",
       "   os_bit_64-bit  weight_casual  weight_gaming  weight_thinnlight  \n",
       "0              1              1              0                  0  \n",
       "1              1              1              0                  0  \n",
       "2              1              1              0                  0  \n",
       "3              0              1              0                  0  \n",
       "4              1              1              0                  0  \n",
       "\n",
       "[5 rows x 30 columns]"
      ]
     },
     "execution_count": 8,
     "metadata": {},
     "output_type": "execute_result"
    }
   ],
   "source": [
    "df = pd.read_csv(dataset_url)\n",
    "df.head()"
   ]
  },
  {
   "cell_type": "markdown",
   "id": "3d3f840d",
   "metadata": {},
   "source": [
    "## Desenvolvimento e experimentos de modelos"
   ]
  },
  {
   "cell_type": "code",
   "execution_count": 9,
   "id": "d865f22f",
   "metadata": {},
   "outputs": [
    {
     "data": {
      "text/html": [
       "<pre style=\"white-space:pre;overflow-x:auto;line-height:normal;font-family:Menlo,'DejaVu Sans Mono',consolas,'Courier New',monospace\">Initialized MLflow to track repo <span style=\"color: #008000; text-decoration-color: #008000\">\"pedromonnt/fiap-ds-mlops-10dtsr-laptop-pricing-brl\"</span>\n",
       "</pre>\n"
      ],
      "text/plain": [
       "Initialized MLflow to track repo \u001b[32m\"pedromonnt/fiap-ds-mlops-10dtsr-laptop-pricing-brl\"\u001b[0m\n"
      ]
     },
     "metadata": {},
     "output_type": "display_data"
    },
    {
     "data": {
      "text/html": [
       "<pre style=\"white-space:pre;overflow-x:auto;line-height:normal;font-family:Menlo,'DejaVu Sans Mono',consolas,'Courier New',monospace\">Repository pedromonnt/fiap-ds-mlops-10dtsr-laptop-pricing-brl initialized!\n",
       "</pre>\n"
      ],
      "text/plain": [
       "Repository pedromonnt/fiap-ds-mlops-10dtsr-laptop-pricing-brl initialized!\n"
      ]
     },
     "metadata": {},
     "output_type": "display_data"
    }
   ],
   "source": [
    "dagshub.init(repo_owner=\"pedromonnt\", repo_name=\"fiap-ds-mlops-10dtsr-laptop-pricing-brl\", mlflow = True)"
   ]
  },
  {
   "cell_type": "code",
   "execution_count": 10,
   "id": "fe5a4d5c",
   "metadata": {},
   "outputs": [
    {
     "name": "stderr",
     "output_type": "stream",
     "text": [
      "2025/07/09 18:38:52 INFO mlflow.tracking.fluent: Autologging successfully enabled for lightgbm.\n",
      "2025/07/09 18:38:55 INFO mlflow.tracking.fluent: Autologging successfully enabled for sklearn.\n",
      "2025/07/09 18:38:55 INFO mlflow.tracking.fluent: Autologging successfully enabled for xgboost.\n"
     ]
    }
   ],
   "source": [
    "mlflow.autolog()"
   ]
  },
  {
   "cell_type": "code",
   "execution_count": 12,
   "id": "9e5f34ec",
   "metadata": {},
   "outputs": [],
   "source": [
    "features = list(df.columns)\n",
    "features.remove(\"price\")"
   ]
  },
  {
   "cell_type": "code",
   "execution_count": 13,
   "id": "9f15d026",
   "metadata": {},
   "outputs": [
    {
     "data": {
      "text/plain": [
       "['ram_gb',\n",
       " 'ssd',\n",
       " 'hdd',\n",
       " 'graphic_card_gb',\n",
       " 'warranty',\n",
       " 'touchscreen',\n",
       " 'brand_asus',\n",
       " 'brand_dell',\n",
       " 'brand_hp',\n",
       " 'brand_lenovo',\n",
       " 'brand_other',\n",
       " 'processor_brand_amd',\n",
       " 'processor_brand_intel',\n",
       " 'processor_brand_m1',\n",
       " 'processor_name_core i3',\n",
       " 'processor_name_core i5',\n",
       " 'processor_name_core i7',\n",
       " 'processor_name_other',\n",
       " 'processor_name_ryzen 5',\n",
       " 'processor_name_ryzen 7',\n",
       " 'ram_type_ddr4',\n",
       " 'ram_type_other',\n",
       " 'os_other',\n",
       " 'os_windows',\n",
       " 'os_bit_32-bit',\n",
       " 'os_bit_64-bit',\n",
       " 'weight_casual',\n",
       " 'weight_gaming',\n",
       " 'weight_thinnlight']"
      ]
     },
     "execution_count": 13,
     "metadata": {},
     "output_type": "execute_result"
    }
   ],
   "source": [
    "features"
   ]
  },
  {
   "cell_type": "code",
   "execution_count": 14,
   "id": "c89644ff",
   "metadata": {},
   "outputs": [],
   "source": [
    "X = df[features]"
   ]
  },
  {
   "cell_type": "code",
   "execution_count": 15,
   "id": "a4a0e8f0",
   "metadata": {},
   "outputs": [
    {
     "data": {
      "text/plain": [
       "29"
      ]
     },
     "execution_count": 15,
     "metadata": {},
     "output_type": "execute_result"
    }
   ],
   "source": [
    "len(features)"
   ]
  },
  {
   "cell_type": "code",
   "execution_count": null,
   "id": "ad66611f",
   "metadata": {},
   "outputs": [],
   "source": []
  }
 ],
 "metadata": {
  "kernelspec": {
   "display_name": ".venv (3.13.2)",
   "language": "python",
   "name": "python3"
  },
  "language_info": {
   "codemirror_mode": {
    "name": "ipython",
    "version": 3
   },
   "file_extension": ".py",
   "mimetype": "text/x-python",
   "name": "python",
   "nbconvert_exporter": "python",
   "pygments_lexer": "ipython3",
   "version": "3.13.2"
  }
 },
 "nbformat": 4,
 "nbformat_minor": 5
}
