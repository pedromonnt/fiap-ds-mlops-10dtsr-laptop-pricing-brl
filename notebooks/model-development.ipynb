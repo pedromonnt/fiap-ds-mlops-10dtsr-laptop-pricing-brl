{
 "cells": [
  {
   "cell_type": "markdown",
   "id": "b7257597",
   "metadata": {},
   "source": [
    "## Desenvolvimento do modelo de predição de preço\n",
    "\n",
    "Exploração inicial de modelos de base"
   ]
  },
  {
   "cell_type": "code",
   "execution_count": 1,
   "id": "40bfcab9",
   "metadata": {},
   "outputs": [],
   "source": [
    "import pandas as pd\n",
    "from dagshub.data_engine import datasources\n",
    "import mlflow\n",
    "import dagshub\n",
    "from sklearn.model_selection import train_test_split\n",
    "import mlflow.sklearn\n",
    "import mlflow.catboost\n",
    "from sklearn.linear_model import Ridge\n",
    "from sklearn.model_selection import GridSearchCV\n",
    "from sklearn.metrics import make_scorer, mean_squared_error, mean_absolute_error, r2_score, mean_absolute_percentage_error\n",
    "from sklearn.tree import DecisionTreeRegressor\n",
    "from sklearn.neural_network import MLPRegressor\n",
    "from xgboost import XGBRegressor\n",
    "import lightgbm as lgb\n",
    "from sklearn.svm import SVR\n",
    "from sklearn.gaussian_process import GaussianProcessRegressor\n",
    "from sklearn.gaussian_process.kernels import RBF, ConstantKernel as C\n",
    "import mlflow.models.signature\n",
    "from mlflow.models import infer_signature\n",
    "from catboost import CatBoostRegressor"
   ]
  },
  {
   "cell_type": "code",
   "execution_count": 2,
   "id": "11430c23",
   "metadata": {},
   "outputs": [
    {
     "data": {
      "text/html": [
       "<pre style=\"white-space:pre;overflow-x:auto;line-height:normal;font-family:Menlo,'DejaVu Sans Mono',consolas,'Courier New',monospace\">Accessing as pedromonnt\n",
       "</pre>\n"
      ],
      "text/plain": [
       "Accessing as pedromonnt\n"
      ]
     },
     "metadata": {},
     "output_type": "display_data"
    }
   ],
   "source": [
    "ds = datasources.get_datasource(\"pedromonnt/fiap-ds-mlops-10dtsr-laptop-pricing-brl\",\"processed\")"
   ]
  },
  {
   "cell_type": "code",
   "execution_count": 3,
   "id": "273eaa53",
   "metadata": {},
   "outputs": [
    {
     "data": {
      "application/vnd.jupyter.widget-view+json": {
       "model_id": "71b043a5c9d143e08bc08441a2779d3d",
       "version_major": 2,
       "version_minor": 0
      },
      "text/plain": [
       "Output()"
      ]
     },
     "metadata": {},
     "output_type": "display_data"
    },
    {
     "data": {
      "text/html": [
       "<pre style=\"white-space:pre;overflow-x:auto;line-height:normal;font-family:Menlo,'DejaVu Sans Mono',consolas,'Courier New',monospace\"></pre>\n"
      ],
      "text/plain": []
     },
     "metadata": {},
     "output_type": "display_data"
    },
    {
     "data": {
      "text/html": [
       "<div>\n",
       "<style scoped>\n",
       "    .dataframe tbody tr th:only-of-type {\n",
       "        vertical-align: middle;\n",
       "    }\n",
       "\n",
       "    .dataframe tbody tr th {\n",
       "        vertical-align: top;\n",
       "    }\n",
       "\n",
       "    .dataframe thead th {\n",
       "        text-align: right;\n",
       "    }\n",
       "</style>\n",
       "<table border=\"1\" class=\"dataframe\">\n",
       "  <thead>\n",
       "    <tr style=\"text-align: right;\">\n",
       "      <th></th>\n",
       "      <th>path</th>\n",
       "      <th>datapoint_id</th>\n",
       "      <th>dagshub_download_url</th>\n",
       "      <th>media type</th>\n",
       "      <th>size</th>\n",
       "    </tr>\n",
       "  </thead>\n",
       "  <tbody>\n",
       "    <tr>\n",
       "      <th>0</th>\n",
       "      <td>laptop-price-brl-processed.csv</td>\n",
       "      <td>102408450</td>\n",
       "      <td>https://dagshub.com/api/v1/repos/pedromonnt/fi...</td>\n",
       "      <td>text/plain</td>\n",
       "      <td>52559</td>\n",
       "    </tr>\n",
       "  </tbody>\n",
       "</table>\n",
       "</div>"
      ],
      "text/plain": [
       "                             path  datapoint_id  \\\n",
       "0  laptop-price-brl-processed.csv     102408450   \n",
       "\n",
       "                                dagshub_download_url  media type   size  \n",
       "0  https://dagshub.com/api/v1/repos/pedromonnt/fi...  text/plain  52559  "
      ]
     },
     "execution_count": 3,
     "metadata": {},
     "output_type": "execute_result"
    }
   ],
   "source": [
    "ds.all().dataframe"
   ]
  },
  {
   "cell_type": "code",
   "execution_count": 4,
   "id": "ec2d1ce2",
   "metadata": {},
   "outputs": [
    {
     "data": {
      "application/vnd.jupyter.widget-view+json": {
       "model_id": "256ddb0c8a0e47eda93c6bde2851b1c5",
       "version_major": 2,
       "version_minor": 0
      },
      "text/plain": [
       "Output()"
      ]
     },
     "metadata": {},
     "output_type": "display_data"
    },
    {
     "data": {
      "text/html": [
       "<pre style=\"white-space:pre;overflow-x:auto;line-height:normal;font-family:Menlo,'DejaVu Sans Mono',consolas,'Courier New',monospace\"></pre>\n"
      ],
      "text/plain": []
     },
     "metadata": {},
     "output_type": "display_data"
    }
   ],
   "source": [
    "res = ds.head()\n",
    "\n",
    "for dp in res:\n",
    "    dataset_url = dp.download_url"
   ]
  },
  {
   "cell_type": "code",
   "execution_count": 5,
   "id": "49d4b960",
   "metadata": {},
   "outputs": [
    {
     "data": {
      "text/plain": [
       "'https://dagshub.com/api/v1/repos/pedromonnt/fiap-ds-mlops-10dtsr-laptop-pricing-brl/raw/main/data/processed/laptop-price-brl-processed.csv'"
      ]
     },
     "execution_count": 5,
     "metadata": {},
     "output_type": "execute_result"
    }
   ],
   "source": [
    "dataset_url"
   ]
  },
  {
   "cell_type": "code",
   "execution_count": 6,
   "id": "163cd2ae",
   "metadata": {},
   "outputs": [
    {
     "data": {
      "text/html": [
       "<div>\n",
       "<style scoped>\n",
       "    .dataframe tbody tr th:only-of-type {\n",
       "        vertical-align: middle;\n",
       "    }\n",
       "\n",
       "    .dataframe tbody tr th {\n",
       "        vertical-align: top;\n",
       "    }\n",
       "\n",
       "    .dataframe thead th {\n",
       "        text-align: right;\n",
       "    }\n",
       "</style>\n",
       "<table border=\"1\" class=\"dataframe\">\n",
       "  <thead>\n",
       "    <tr style=\"text-align: right;\">\n",
       "      <th></th>\n",
       "      <th>ram_gb</th>\n",
       "      <th>ssd</th>\n",
       "      <th>hdd</th>\n",
       "      <th>graphic_card_gb</th>\n",
       "      <th>warranty</th>\n",
       "      <th>price</th>\n",
       "      <th>brand_asus</th>\n",
       "      <th>brand_dell</th>\n",
       "      <th>brand_hp</th>\n",
       "      <th>brand_lenovo</th>\n",
       "      <th>...</th>\n",
       "      <th>ram_type_other</th>\n",
       "      <th>os_other</th>\n",
       "      <th>os_windows</th>\n",
       "      <th>os_bit_32-bit</th>\n",
       "      <th>os_bit_64-bit</th>\n",
       "      <th>weight_casual</th>\n",
       "      <th>weight_gaming</th>\n",
       "      <th>weight_thinnlight</th>\n",
       "      <th>touchscreen_0</th>\n",
       "      <th>touchscreen_1</th>\n",
       "    </tr>\n",
       "  </thead>\n",
       "  <tbody>\n",
       "    <tr>\n",
       "      <th>0</th>\n",
       "      <td>4</td>\n",
       "      <td>0</td>\n",
       "      <td>1024</td>\n",
       "      <td>0</td>\n",
       "      <td>0</td>\n",
       "      <td>2321</td>\n",
       "      <td>1</td>\n",
       "      <td>0</td>\n",
       "      <td>0</td>\n",
       "      <td>0</td>\n",
       "      <td>...</td>\n",
       "      <td>0</td>\n",
       "      <td>0</td>\n",
       "      <td>1</td>\n",
       "      <td>0</td>\n",
       "      <td>1</td>\n",
       "      <td>1</td>\n",
       "      <td>0</td>\n",
       "      <td>0</td>\n",
       "      <td>1</td>\n",
       "      <td>0</td>\n",
       "    </tr>\n",
       "    <tr>\n",
       "      <th>1</th>\n",
       "      <td>4</td>\n",
       "      <td>0</td>\n",
       "      <td>1024</td>\n",
       "      <td>0</td>\n",
       "      <td>0</td>\n",
       "      <td>2613</td>\n",
       "      <td>0</td>\n",
       "      <td>0</td>\n",
       "      <td>0</td>\n",
       "      <td>1</td>\n",
       "      <td>...</td>\n",
       "      <td>0</td>\n",
       "      <td>0</td>\n",
       "      <td>1</td>\n",
       "      <td>0</td>\n",
       "      <td>1</td>\n",
       "      <td>1</td>\n",
       "      <td>0</td>\n",
       "      <td>0</td>\n",
       "      <td>1</td>\n",
       "      <td>0</td>\n",
       "    </tr>\n",
       "    <tr>\n",
       "      <th>2</th>\n",
       "      <td>4</td>\n",
       "      <td>0</td>\n",
       "      <td>1024</td>\n",
       "      <td>0</td>\n",
       "      <td>0</td>\n",
       "      <td>2680</td>\n",
       "      <td>0</td>\n",
       "      <td>0</td>\n",
       "      <td>0</td>\n",
       "      <td>1</td>\n",
       "      <td>...</td>\n",
       "      <td>0</td>\n",
       "      <td>0</td>\n",
       "      <td>1</td>\n",
       "      <td>0</td>\n",
       "      <td>1</td>\n",
       "      <td>1</td>\n",
       "      <td>0</td>\n",
       "      <td>0</td>\n",
       "      <td>1</td>\n",
       "      <td>0</td>\n",
       "    </tr>\n",
       "    <tr>\n",
       "      <th>3</th>\n",
       "      <td>8</td>\n",
       "      <td>512</td>\n",
       "      <td>0</td>\n",
       "      <td>2</td>\n",
       "      <td>0</td>\n",
       "      <td>4689</td>\n",
       "      <td>1</td>\n",
       "      <td>0</td>\n",
       "      <td>0</td>\n",
       "      <td>0</td>\n",
       "      <td>...</td>\n",
       "      <td>0</td>\n",
       "      <td>0</td>\n",
       "      <td>1</td>\n",
       "      <td>1</td>\n",
       "      <td>0</td>\n",
       "      <td>1</td>\n",
       "      <td>0</td>\n",
       "      <td>0</td>\n",
       "      <td>1</td>\n",
       "      <td>0</td>\n",
       "    </tr>\n",
       "    <tr>\n",
       "      <th>4</th>\n",
       "      <td>4</td>\n",
       "      <td>0</td>\n",
       "      <td>512</td>\n",
       "      <td>0</td>\n",
       "      <td>0</td>\n",
       "      <td>1808</td>\n",
       "      <td>1</td>\n",
       "      <td>0</td>\n",
       "      <td>0</td>\n",
       "      <td>0</td>\n",
       "      <td>...</td>\n",
       "      <td>0</td>\n",
       "      <td>0</td>\n",
       "      <td>1</td>\n",
       "      <td>0</td>\n",
       "      <td>1</td>\n",
       "      <td>1</td>\n",
       "      <td>0</td>\n",
       "      <td>0</td>\n",
       "      <td>1</td>\n",
       "      <td>0</td>\n",
       "    </tr>\n",
       "  </tbody>\n",
       "</table>\n",
       "<p>5 rows × 31 columns</p>\n",
       "</div>"
      ],
      "text/plain": [
       "   ram_gb  ssd   hdd  graphic_card_gb  warranty  price  brand_asus  \\\n",
       "0       4    0  1024                0         0   2321           1   \n",
       "1       4    0  1024                0         0   2613           0   \n",
       "2       4    0  1024                0         0   2680           0   \n",
       "3       8  512     0                2         0   4689           1   \n",
       "4       4    0   512                0         0   1808           1   \n",
       "\n",
       "   brand_dell  brand_hp  brand_lenovo  ...  ram_type_other  os_other  \\\n",
       "0           0         0             0  ...               0         0   \n",
       "1           0         0             1  ...               0         0   \n",
       "2           0         0             1  ...               0         0   \n",
       "3           0         0             0  ...               0         0   \n",
       "4           0         0             0  ...               0         0   \n",
       "\n",
       "   os_windows  os_bit_32-bit  os_bit_64-bit  weight_casual  weight_gaming  \\\n",
       "0           1              0              1              1              0   \n",
       "1           1              0              1              1              0   \n",
       "2           1              0              1              1              0   \n",
       "3           1              1              0              1              0   \n",
       "4           1              0              1              1              0   \n",
       "\n",
       "   weight_thinnlight  touchscreen_0  touchscreen_1  \n",
       "0                  0              1              0  \n",
       "1                  0              1              0  \n",
       "2                  0              1              0  \n",
       "3                  0              1              0  \n",
       "4                  0              1              0  \n",
       "\n",
       "[5 rows x 31 columns]"
      ]
     },
     "execution_count": 6,
     "metadata": {},
     "output_type": "execute_result"
    }
   ],
   "source": [
    "df = pd.read_csv(dataset_url)\n",
    "df.head()"
   ]
  },
  {
   "cell_type": "markdown",
   "id": "3d3f840d",
   "metadata": {},
   "source": [
    "## Desenvolvimento e experimentos de modelos"
   ]
  },
  {
   "cell_type": "code",
   "execution_count": 7,
   "id": "d865f22f",
   "metadata": {},
   "outputs": [
    {
     "data": {
      "text/html": [
       "<pre style=\"white-space:pre;overflow-x:auto;line-height:normal;font-family:Menlo,'DejaVu Sans Mono',consolas,'Courier New',monospace\">Initialized MLflow to track repo <span style=\"color: #008000; text-decoration-color: #008000\">\"pedromonnt/fiap-ds-mlops-10dtsr-laptop-pricing-brl\"</span>\n",
       "</pre>\n"
      ],
      "text/plain": [
       "Initialized MLflow to track repo \u001b[32m\"pedromonnt/fiap-ds-mlops-10dtsr-laptop-pricing-brl\"\u001b[0m\n"
      ]
     },
     "metadata": {},
     "output_type": "display_data"
    },
    {
     "data": {
      "text/html": [
       "<pre style=\"white-space:pre;overflow-x:auto;line-height:normal;font-family:Menlo,'DejaVu Sans Mono',consolas,'Courier New',monospace\">Repository pedromonnt/fiap-ds-mlops-10dtsr-laptop-pricing-brl initialized!\n",
       "</pre>\n"
      ],
      "text/plain": [
       "Repository pedromonnt/fiap-ds-mlops-10dtsr-laptop-pricing-brl initialized!\n"
      ]
     },
     "metadata": {},
     "output_type": "display_data"
    }
   ],
   "source": [
    "dagshub.init(repo_owner=\"pedromonnt\", repo_name=\"fiap-ds-mlops-10dtsr-laptop-pricing-brl\", mlflow = True)"
   ]
  },
  {
   "cell_type": "code",
   "execution_count": 8,
   "id": "fe5a4d5c",
   "metadata": {},
   "outputs": [
    {
     "name": "stderr",
     "output_type": "stream",
     "text": [
      "2025/07/10 00:04:12 INFO mlflow.tracking.fluent: Autologging successfully enabled for lightgbm.\n",
      "2025/07/10 00:04:17 INFO mlflow.tracking.fluent: Autologging successfully enabled for sklearn.\n",
      "2025/07/10 00:04:17 INFO mlflow.tracking.fluent: Autologging successfully enabled for xgboost.\n"
     ]
    }
   ],
   "source": [
    "mlflow.autolog()"
   ]
  },
  {
   "cell_type": "code",
   "execution_count": 9,
   "id": "9e5f34ec",
   "metadata": {},
   "outputs": [],
   "source": [
    "features = list(df.columns)\n",
    "features.remove(\"price\")"
   ]
  },
  {
   "cell_type": "code",
   "execution_count": 10,
   "id": "9f15d026",
   "metadata": {},
   "outputs": [
    {
     "data": {
      "text/plain": [
       "['ram_gb',\n",
       " 'ssd',\n",
       " 'hdd',\n",
       " 'graphic_card_gb',\n",
       " 'warranty',\n",
       " 'brand_asus',\n",
       " 'brand_dell',\n",
       " 'brand_hp',\n",
       " 'brand_lenovo',\n",
       " 'brand_other',\n",
       " 'processor_brand_amd',\n",
       " 'processor_brand_intel',\n",
       " 'processor_brand_m1',\n",
       " 'processor_name_core i3',\n",
       " 'processor_name_core i5',\n",
       " 'processor_name_core i7',\n",
       " 'processor_name_other',\n",
       " 'processor_name_ryzen 5',\n",
       " 'processor_name_ryzen 7',\n",
       " 'ram_type_ddr4',\n",
       " 'ram_type_other',\n",
       " 'os_other',\n",
       " 'os_windows',\n",
       " 'os_bit_32-bit',\n",
       " 'os_bit_64-bit',\n",
       " 'weight_casual',\n",
       " 'weight_gaming',\n",
       " 'weight_thinnlight',\n",
       " 'touchscreen_0',\n",
       " 'touchscreen_1']"
      ]
     },
     "execution_count": 10,
     "metadata": {},
     "output_type": "execute_result"
    }
   ],
   "source": [
    "features"
   ]
  },
  {
   "cell_type": "code",
   "execution_count": 11,
   "id": "c89644ff",
   "metadata": {},
   "outputs": [],
   "source": [
    "X = df[features]"
   ]
  },
  {
   "cell_type": "code",
   "execution_count": 12,
   "id": "a4a0e8f0",
   "metadata": {},
   "outputs": [
    {
     "data": {
      "text/plain": [
       "30"
      ]
     },
     "execution_count": 12,
     "metadata": {},
     "output_type": "execute_result"
    }
   ],
   "source": [
    "len(features)"
   ]
  },
  {
   "cell_type": "code",
   "execution_count": 13,
   "id": "ad66611f",
   "metadata": {},
   "outputs": [
    {
     "data": {
      "text/plain": [
       "0       2321\n",
       "1       2613\n",
       "2       2680\n",
       "3       4689\n",
       "4       1808\n",
       "       ...  \n",
       "775     9111\n",
       "776     9714\n",
       "777    10049\n",
       "778     9580\n",
       "779     3852\n",
       "Name: price, Length: 780, dtype: int64"
      ]
     },
     "execution_count": 13,
     "metadata": {},
     "output_type": "execute_result"
    }
   ],
   "source": [
    "y = df[\"price\"]\n",
    "y"
   ]
  },
  {
   "cell_type": "code",
   "execution_count": 14,
   "id": "67a152f5",
   "metadata": {},
   "outputs": [],
   "source": [
    "X_train, X_test, y_train, y_test = train_test_split(X, y, test_size = 0.3, random_state = 42)"
   ]
  },
  {
   "cell_type": "code",
   "execution_count": 15,
   "id": "1208941e",
   "metadata": {},
   "outputs": [],
   "source": [
    "def evaluate_and_log_model(kind, model_name, model, X_test, y_test):\n",
    "    predictions = model.predict(X_test)\n",
    "    mse = mean_squared_error(y_test, predictions)\n",
    "    mae = mean_absolute_error(y_test, predictions)\n",
    "    r2 = r2_score(y_test, predictions)\n",
    "    mape = mean_absolute_percentage_error(y_test, predictions)\n",
    "    \n",
    "    mlflow.log_metric(\"MSE\", mse)\n",
    "    mlflow.log_metric(\"MAE\", mae)\n",
    "    mlflow.log_metric(\"R2\", r2)\n",
    "    mlflow.log_metric(\"MAPE\", mape)\n",
    "\n",
    "    signature = infer_signature(X_test, predictions)\n",
    "\n",
    "    if kind == \"catboost\":\n",
    "        mlflow.catboost.log_model(model, model_name, signature=signature, input_example=X_test[:5])\n",
    "    elif kind == \"xgboost\":\n",
    "        mlflow.xgboost.log_model(model, model_name, signature=signature, input_example=X_test[:5])\n",
    "    elif kind == \"lightgbm\":\n",
    "        mlflow.lightgbm.log_model(model, model_name, signature=signature, input_example=X_test[:5])\n",
    "    else:\n",
    "        mlflow.sklearn.log_model(model, model_name, signature=signature, input_example=X_test[:5])\n",
    "\n",
    "    print(f\"Model {model_name} logged with MSE: {mse}, MAE: {mae}, R2: {r2}, MAPE: {mape}\")"
   ]
  },
  {
   "cell_type": "markdown",
   "id": "02607733",
   "metadata": {},
   "source": [
    "### Experimento com Ridge Regression"
   ]
  },
  {
   "cell_type": "code",
   "execution_count": null,
   "id": "8d03b712",
   "metadata": {},
   "outputs": [
    {
     "name": "stderr",
     "output_type": "stream",
     "text": [
      "2025/07/10 00:04:23 WARNING mlflow.utils.autologging_utils: MLflow autologging encountered a warning: \"c:\\Users\\pedro\\Downloads\\fiap-ds-mlops-10dtsr-laptop-pricing-brl\\.venv\\Lib\\site-packages\\mlflow\\types\\utils.py:452: UserWarning: Hint: Inferred schema contains integer column(s). Integer columns in Python cannot represent missing values. If your input data contains missing values at inference time, it will be encoded as floats and will cause a schema enforcement error. The best way to avoid this problem is to infer the model schema based on a realistic data sample (training dataset) that includes missing values. Alternatively, you can declare integer columns as doubles (float64) whenever these columns may have missing values. See `Handling Integers With Missing Values <https://www.mlflow.org/docs/latest/models.html#handling-integers-with-missing-values>`_ for more details.\"\n",
      "2025/07/10 00:04:25 WARNING mlflow.utils.autologging_utils: MLflow autologging encountered a warning: \"c:\\Users\\pedro\\Downloads\\fiap-ds-mlops-10dtsr-laptop-pricing-brl\\.venv\\Lib\\site-packages\\mlflow\\types\\utils.py:452: UserWarning: Hint: Inferred schema contains integer column(s). Integer columns in Python cannot represent missing values. If your input data contains missing values at inference time, it will be encoded as floats and will cause a schema enforcement error. The best way to avoid this problem is to infer the model schema based on a realistic data sample (training dataset) that includes missing values. Alternatively, you can declare integer columns as doubles (float64) whenever these columns may have missing values. See `Handling Integers With Missing Values <https://www.mlflow.org/docs/latest/models.html#handling-integers-with-missing-values>`_ for more details.\"\n",
      "2025/07/10 00:05:00 INFO mlflow.sklearn.utils: Logging the 5 best runs, 3 runs will be omitted.\n"
     ]
    },
    {
     "name": "stdout",
     "output_type": "stream",
     "text": [
      "🏃 View run salty-squid-123 at: https://dagshub.com/pedromonnt/fiap-ds-mlops-10dtsr-laptop-pricing-brl.mlflow/#/experiments/0/runs/8daa17c861ff4638b6f6a3b4344a189c\n",
      "🧪 View experiment at: https://dagshub.com/pedromonnt/fiap-ds-mlops-10dtsr-laptop-pricing-brl.mlflow/#/experiments/0\n",
      "🏃 View run learned-bird-88 at: https://dagshub.com/pedromonnt/fiap-ds-mlops-10dtsr-laptop-pricing-brl.mlflow/#/experiments/0/runs/08dc8a48c21c4321baa0ccf6e82fc3c2\n",
      "🧪 View experiment at: https://dagshub.com/pedromonnt/fiap-ds-mlops-10dtsr-laptop-pricing-brl.mlflow/#/experiments/0\n",
      "🏃 View run puzzled-ape-742 at: https://dagshub.com/pedromonnt/fiap-ds-mlops-10dtsr-laptop-pricing-brl.mlflow/#/experiments/0/runs/b47fa51c03434c5abfe550669bb1b914\n",
      "🧪 View experiment at: https://dagshub.com/pedromonnt/fiap-ds-mlops-10dtsr-laptop-pricing-brl.mlflow/#/experiments/0\n",
      "🏃 View run brawny-crane-492 at: https://dagshub.com/pedromonnt/fiap-ds-mlops-10dtsr-laptop-pricing-brl.mlflow/#/experiments/0/runs/452dc523882349099aab3fcb0a06afab\n",
      "🧪 View experiment at: https://dagshub.com/pedromonnt/fiap-ds-mlops-10dtsr-laptop-pricing-brl.mlflow/#/experiments/0\n",
      "🏃 View run unruly-robin-877 at: https://dagshub.com/pedromonnt/fiap-ds-mlops-10dtsr-laptop-pricing-brl.mlflow/#/experiments/0/runs/fb75e96c859b475eaf19fe158cc8298b\n",
      "🧪 View experiment at: https://dagshub.com/pedromonnt/fiap-ds-mlops-10dtsr-laptop-pricing-brl.mlflow/#/experiments/0\n"
     ]
    },
    {
     "name": "stderr",
     "output_type": "stream",
     "text": [
      "c:\\Users\\pedro\\Downloads\\fiap-ds-mlops-10dtsr-laptop-pricing-brl\\.venv\\Lib\\site-packages\\mlflow\\types\\utils.py:452: UserWarning: Hint: Inferred schema contains integer column(s). Integer columns in Python cannot represent missing values. If your input data contains missing values at inference time, it will be encoded as floats and will cause a schema enforcement error. The best way to avoid this problem is to infer the model schema based on a realistic data sample (training dataset) that includes missing values. Alternatively, you can declare integer columns as doubles (float64) whenever these columns may have missing values. See `Handling Integers With Missing Values <https://www.mlflow.org/docs/latest/models.html#handling-integers-with-missing-values>`_ for more details.\n",
      "  warnings.warn(\n"
     ]
    },
    {
     "data": {
      "application/vnd.jupyter.widget-view+json": {
       "model_id": "1af412660ce64b03ae78410f24bd0ee6",
       "version_major": 2,
       "version_minor": 0
      },
      "text/plain": [
       "Downloading artifacts:   0%|          | 0/7 [00:00<?, ?it/s]"
      ]
     },
     "metadata": {},
     "output_type": "display_data"
    },
    {
     "name": "stdout",
     "output_type": "stream",
     "text": [
      "Model ridge_regression logged with MSE: 3024089.113899016, MAE: 1137.7871730265826, R2: 0.6421034856259351, MAPE: 0.22065408855367982\n",
      "🏃 View run Ridge Regression at: https://dagshub.com/pedromonnt/fiap-ds-mlops-10dtsr-laptop-pricing-brl.mlflow/#/experiments/0/runs/ca88768ffec546989150e4d7d889c411\n",
      "🧪 View experiment at: https://dagshub.com/pedromonnt/fiap-ds-mlops-10dtsr-laptop-pricing-brl.mlflow/#/experiments/0\n"
     ]
    },
    {
     "name": "stdout",
     "output_type": "stream",
     "text": [
      "🏃 View run delicate-penguin-723 at: https://dagshub.com/pedromonnt/fiap-ds-mlops-10dtsr-laptop-pricing-brl.mlflow/#/experiments/0/runs/de904667f79e432da30da8f52d56455c\n",
      "🧪 View experiment at: https://dagshub.com/pedromonnt/fiap-ds-mlops-10dtsr-laptop-pricing-brl.mlflow/#/experiments/0\n",
      "🏃 View run receptive-whale-808 at: https://dagshub.com/pedromonnt/fiap-ds-mlops-10dtsr-laptop-pricing-brl.mlflow/#/experiments/0/runs/785c1af6e9e34c87a84407eb82733024\n",
      "🧪 View experiment at: https://dagshub.com/pedromonnt/fiap-ds-mlops-10dtsr-laptop-pricing-brl.mlflow/#/experiments/0\n",
      "🏃 View run mercurial-cod-117 at: https://dagshub.com/pedromonnt/fiap-ds-mlops-10dtsr-laptop-pricing-brl.mlflow/#/experiments/0/runs/93c52fbce9474b08bb240a2952b0b361\n",
      "🧪 View experiment at: https://dagshub.com/pedromonnt/fiap-ds-mlops-10dtsr-laptop-pricing-brl.mlflow/#/experiments/0\n",
      "🏃 View run fearless-grub-72 at: https://dagshub.com/pedromonnt/fiap-ds-mlops-10dtsr-laptop-pricing-brl.mlflow/#/experiments/0/runs/02840695471245f4ac45210895c9e129\n",
      "🧪 View experiment at: https://dagshub.com/pedromonnt/fiap-ds-mlops-10dtsr-laptop-pricing-brl.mlflow/#/experiments/0\n",
      "🏃 View run beautiful-cod-101 at: https://dagshub.com/pedromonnt/fiap-ds-mlops-10dtsr-laptop-pricing-brl.mlflow/#/experiments/0/runs/999ff34a4557441899d1b456ce1e0b02\n",
      "🧪 View experiment at: https://dagshub.com/pedromonnt/fiap-ds-mlops-10dtsr-laptop-pricing-brl.mlflow/#/experiments/0\n",
      "🏃 View run abundant-ant-538 at: https://dagshub.com/pedromonnt/fiap-ds-mlops-10dtsr-laptop-pricing-brl.mlflow/#/experiments/0/runs/3759d3b1cce6479889d9b0b780118865\n",
      "🧪 View experiment at: https://dagshub.com/pedromonnt/fiap-ds-mlops-10dtsr-laptop-pricing-brl.mlflow/#/experiments/0\n",
      "🏃 View run classy-robin-307 at: https://dagshub.com/pedromonnt/fiap-ds-mlops-10dtsr-laptop-pricing-brl.mlflow/#/experiments/0/runs/5a695340e3434ceab9df25eeabd52565\n",
      "🧪 View experiment at: https://dagshub.com/pedromonnt/fiap-ds-mlops-10dtsr-laptop-pricing-brl.mlflow/#/experiments/0\n",
      "🏃 View run victorious-elk-299 at: https://dagshub.com/pedromonnt/fiap-ds-mlops-10dtsr-laptop-pricing-brl.mlflow/#/experiments/0/runs/bb1a635b0c3a4be7823ffc8ed5eced3e\n",
      "🧪 View experiment at: https://dagshub.com/pedromonnt/fiap-ds-mlops-10dtsr-laptop-pricing-brl.mlflow/#/experiments/0\n",
      "🏃 View run receptive-skink-950 at: https://dagshub.com/pedromonnt/fiap-ds-mlops-10dtsr-laptop-pricing-brl.mlflow/#/experiments/0/runs/8037963aa32149b4af1dd6700f0c7435\n",
      "🧪 View experiment at: https://dagshub.com/pedromonnt/fiap-ds-mlops-10dtsr-laptop-pricing-brl.mlflow/#/experiments/0\n",
      "🏃 View run crawling-foal-957 at: https://dagshub.com/pedromonnt/fiap-ds-mlops-10dtsr-laptop-pricing-brl.mlflow/#/experiments/0/runs/97feb241d33349378d25238684d4f7b6\n",
      "🧪 View experiment at: https://dagshub.com/pedromonnt/fiap-ds-mlops-10dtsr-laptop-pricing-brl.mlflow/#/experiments/0\n"
     ]
    }
   ],
   "source": [
    "with mlflow.start_run(run_name = \"Ridge Regression\"):\n",
    "    param_grid = {\n",
    "        'alpha': [0.1, 1.0, 10.0, 100.0],\n",
    "        'fit_intercept': [True, False]\n",
    "    }\n",
    "\n",
    "    ridge = Ridge()\n",
    "\n",
    "    grid_search = GridSearchCV(ridge, param_grid, cv=5, scoring=make_scorer(mean_absolute_percentage_error, greater_is_better = False))\n",
    "    grid_search.fit(X_train, y_train)\n",
    "\n",
    "    best_model = grid_search.best_estimator_\n",
    "\n",
    "    mlflow.log_param(\"best_alpha\", grid_search.best_params_['alpha'])\n",
    "    mlflow.log_param(\"best_fit_intercept\", grid_search.best_params_['fit_intercept'])\n",
    "\n",
    "    evaluate_and_log_model(\"sklearn\", \"ridge_regression\", best_model, X_test, y_test)"
   ]
  },
  {
   "cell_type": "markdown",
   "id": "0a746d41",
   "metadata": {},
   "source": [
    "### Decision Tree Regressor"
   ]
  },
  {
   "cell_type": "code",
   "execution_count": 17,
   "id": "4030cea5",
   "metadata": {},
   "outputs": [
    {
     "name": "stderr",
     "output_type": "stream",
     "text": [
      "2025/07/10 00:05:37 WARNING mlflow.utils.autologging_utils: MLflow autologging encountered a warning: \"c:\\Users\\pedro\\Downloads\\fiap-ds-mlops-10dtsr-laptop-pricing-brl\\.venv\\Lib\\site-packages\\mlflow\\types\\utils.py:452: UserWarning: Hint: Inferred schema contains integer column(s). Integer columns in Python cannot represent missing values. If your input data contains missing values at inference time, it will be encoded as floats and will cause a schema enforcement error. The best way to avoid this problem is to infer the model schema based on a realistic data sample (training dataset) that includes missing values. Alternatively, you can declare integer columns as doubles (float64) whenever these columns may have missing values. See `Handling Integers With Missing Values <https://www.mlflow.org/docs/latest/models.html#handling-integers-with-missing-values>`_ for more details.\"\n",
      "2025/07/10 00:05:39 WARNING mlflow.utils.autologging_utils: MLflow autologging encountered a warning: \"c:\\Users\\pedro\\Downloads\\fiap-ds-mlops-10dtsr-laptop-pricing-brl\\.venv\\Lib\\site-packages\\mlflow\\types\\utils.py:452: UserWarning: Hint: Inferred schema contains integer column(s). Integer columns in Python cannot represent missing values. If your input data contains missing values at inference time, it will be encoded as floats and will cause a schema enforcement error. The best way to avoid this problem is to infer the model schema based on a realistic data sample (training dataset) that includes missing values. Alternatively, you can declare integer columns as doubles (float64) whenever these columns may have missing values. See `Handling Integers With Missing Values <https://www.mlflow.org/docs/latest/models.html#handling-integers-with-missing-values>`_ for more details.\"\n",
      "2025/07/10 00:05:56 INFO mlflow.sklearn.utils: Logging the 5 best runs, 40 runs will be omitted.\n",
      "c:\\Users\\pedro\\Downloads\\fiap-ds-mlops-10dtsr-laptop-pricing-brl\\.venv\\Lib\\site-packages\\mlflow\\types\\utils.py:452: UserWarning: Hint: Inferred schema contains integer column(s). Integer columns in Python cannot represent missing values. If your input data contains missing values at inference time, it will be encoded as floats and will cause a schema enforcement error. The best way to avoid this problem is to infer the model schema based on a realistic data sample (training dataset) that includes missing values. Alternatively, you can declare integer columns as doubles (float64) whenever these columns may have missing values. See `Handling Integers With Missing Values <https://www.mlflow.org/docs/latest/models.html#handling-integers-with-missing-values>`_ for more details.\n",
      "  warnings.warn(\n"
     ]
    },
    {
     "data": {
      "application/vnd.jupyter.widget-view+json": {
       "model_id": "9203ad5c7d5346099975d14aae9bac05",
       "version_major": 2,
       "version_minor": 0
      },
      "text/plain": [
       "Downloading artifacts:   0%|          | 0/7 [00:00<?, ?it/s]"
      ]
     },
     "metadata": {},
     "output_type": "display_data"
    },
    {
     "name": "stdout",
     "output_type": "stream",
     "text": [
      "Model decision_tree_regression logged with MSE: 3698554.4767268803, MAE: 1047.0384696152662, R2: 0.5622814984653437, MAPE: 0.1664400851319324\n",
      "🏃 View run Decision Tree Regression at: https://dagshub.com/pedromonnt/fiap-ds-mlops-10dtsr-laptop-pricing-brl.mlflow/#/experiments/0/runs/f125de6577ee45e6bf2a53bfbaad1f97\n",
      "🧪 View experiment at: https://dagshub.com/pedromonnt/fiap-ds-mlops-10dtsr-laptop-pricing-brl.mlflow/#/experiments/0\n"
     ]
    }
   ],
   "source": [
    "with mlflow.start_run(run_name = \"Decision Tree Regression\"):\n",
    "    param_grid = {\n",
    "        'max_depth': [None, 3, 5, 10, 15],\n",
    "        'min_samples_split': [2, 5, 10],\n",
    "        'min_samples_leaf': [1, 2, 4]\n",
    "    }\n",
    "\n",
    "    ridge = DecisionTreeRegressor()\n",
    "\n",
    "    grid_search = GridSearchCV(ridge, param_grid, cv=5, scoring=make_scorer(mean_absolute_percentage_error, greater_is_better = False))\n",
    "    grid_search.fit(X_train, y_train)\n",
    "\n",
    "    best_model = grid_search.best_estimator_\n",
    "\n",
    "    mlflow.log_param(\"best_max_depth\", grid_search.best_params_['max_depth'])\n",
    "    mlflow.log_param(\"best_min_samples_split\", grid_search.best_params_['min_samples_split'])\n",
    "    mlflow.log_param(\"best_min_samples_leaf\", grid_search.best_params_['min_samples_leaf'])\n",
    "\n",
    "    evaluate_and_log_model(\"sklearn\", \"decision_tree_regression\", best_model, X_test, y_test)"
   ]
  },
  {
   "cell_type": "markdown",
   "id": "1c41499a",
   "metadata": {},
   "source": [
    "## XGBoost"
   ]
  },
  {
   "cell_type": "code",
   "execution_count": 18,
   "id": "f04b1193",
   "metadata": {},
   "outputs": [
    {
     "name": "stderr",
     "output_type": "stream",
     "text": [
      "2025/07/10 00:06:36 WARNING mlflow.utils.autologging_utils: MLflow autologging encountered a warning: \"c:\\Users\\pedro\\Downloads\\fiap-ds-mlops-10dtsr-laptop-pricing-brl\\.venv\\Lib\\site-packages\\mlflow\\types\\utils.py:452: UserWarning: Hint: Inferred schema contains integer column(s). Integer columns in Python cannot represent missing values. If your input data contains missing values at inference time, it will be encoded as floats and will cause a schema enforcement error. The best way to avoid this problem is to infer the model schema based on a realistic data sample (training dataset) that includes missing values. Alternatively, you can declare integer columns as doubles (float64) whenever these columns may have missing values. See `Handling Integers With Missing Values <https://www.mlflow.org/docs/latest/models.html#handling-integers-with-missing-values>`_ for more details.\"\n",
      "2025/07/10 00:16:29 WARNING mlflow.utils.autologging_utils: MLflow autologging encountered a warning: \"c:\\Users\\pedro\\Downloads\\fiap-ds-mlops-10dtsr-laptop-pricing-brl\\.venv\\Lib\\site-packages\\mlflow\\types\\utils.py:452: UserWarning: Hint: Inferred schema contains integer column(s). Integer columns in Python cannot represent missing values. If your input data contains missing values at inference time, it will be encoded as floats and will cause a schema enforcement error. The best way to avoid this problem is to infer the model schema based on a realistic data sample (training dataset) that includes missing values. Alternatively, you can declare integer columns as doubles (float64) whenever these columns may have missing values. See `Handling Integers With Missing Values <https://www.mlflow.org/docs/latest/models.html#handling-integers-with-missing-values>`_ for more details.\"\n",
      "2025/07/10 00:16:58 INFO mlflow.sklearn.utils: Logging the 5 best runs, 763 runs will be omitted.\n",
      "c:\\Users\\pedro\\Downloads\\fiap-ds-mlops-10dtsr-laptop-pricing-brl\\.venv\\Lib\\site-packages\\mlflow\\types\\utils.py:452: UserWarning: Hint: Inferred schema contains integer column(s). Integer columns in Python cannot represent missing values. If your input data contains missing values at inference time, it will be encoded as floats and will cause a schema enforcement error. The best way to avoid this problem is to infer the model schema based on a realistic data sample (training dataset) that includes missing values. Alternatively, you can declare integer columns as doubles (float64) whenever these columns may have missing values. See `Handling Integers With Missing Values <https://www.mlflow.org/docs/latest/models.html#handling-integers-with-missing-values>`_ for more details.\n",
      "  warnings.warn(\n",
      "c:\\Users\\pedro\\Downloads\\fiap-ds-mlops-10dtsr-laptop-pricing-brl\\.venv\\Lib\\site-packages\\xgboost\\sklearn.py:1028: UserWarning: [00:17:20] WARNING: C:\\actions-runner\\_work\\xgboost\\xgboost\\src\\c_api\\c_api.cc:1427: Saving model in the UBJSON format as default.  You can use file extension: `json`, `ubj` or `deprecated` to choose between formats.\n",
      "  self.get_booster().save_model(fname)\n"
     ]
    },
    {
     "data": {
      "application/vnd.jupyter.widget-view+json": {
       "model_id": "56add5953e9447db9c44cff9245b96c1",
       "version_major": 2,
       "version_minor": 0
      },
      "text/plain": [
       "Downloading artifacts:   0%|          | 0/7 [00:00<?, ?it/s]"
      ]
     },
     "metadata": {},
     "output_type": "display_data"
    },
    {
     "name": "stdout",
     "output_type": "stream",
     "text": [
      "Model XGBoost Regressor logged with MSE: 2602369.0, MAE: 871.9007568359375, R2: 0.6920134425163269, MAPE: 0.13540245592594147\n",
      "🏃 View run XGBoost Regressor Advanced at: https://dagshub.com/pedromonnt/fiap-ds-mlops-10dtsr-laptop-pricing-brl.mlflow/#/experiments/0/runs/716800d463e44835b8b38af5a53fbd44\n",
      "🧪 View experiment at: https://dagshub.com/pedromonnt/fiap-ds-mlops-10dtsr-laptop-pricing-brl.mlflow/#/experiments/0\n"
     ]
    }
   ],
   "source": [
    "with mlflow.start_run(run_name = \"XGBoost Regressor Advanced\"):\n",
    "    param_grid = {\n",
    "        'n_estimators': [100, 200],\n",
    "        'max_depth': [3, 5, 7],\n",
    "        'learning_rate': [0.01, 0.1],\n",
    "        'subsample': [0.8, 1.0],\n",
    "        'colsample_bytree': [0.8, 1.0],\n",
    "        'gamma': [0, 1],\n",
    "        'reg_alpha': [0, 0.1],\n",
    "        'reg_lambda': [1, 5],\n",
    "        'min_child_weight': [1, 3]\n",
    "    }\n",
    "\n",
    "    xgb = XGBRegressor(random_state = 42, verbosity = 0)\n",
    "\n",
    "    grid_search = GridSearchCV(xgb, param_grid, cv=5, scoring=make_scorer(mean_absolute_percentage_error, greater_is_better = False))\n",
    "    grid_search.fit(X_train, y_train)\n",
    "\n",
    "    best_model = grid_search.best_estimator_\n",
    "\n",
    "    mlflow.log_param(\"best_n_estimators\", best_model.n_estimators)\n",
    "    mlflow.log_param(\"best_max_depth\", best_model.max_depth)\n",
    "    mlflow.log_param(\"best_learning_rate\", best_model.learning_rate)\n",
    "\n",
    "    evaluate_and_log_model(\"xgboost\", \"XGBoost Regressor\", best_model, X_test, y_test)"
   ]
  },
  {
   "cell_type": "markdown",
   "id": "02c0cc5f",
   "metadata": {},
   "source": [
    "### Registro de modelo em produção"
   ]
  },
  {
   "cell_type": "code",
   "execution_count": 19,
   "id": "29c0348e",
   "metadata": {},
   "outputs": [
    {
     "name": "stderr",
     "output_type": "stream",
     "text": [
      "Registered model 'laptop-pricing-model-brl' already exists. Creating a new version of this model...\n",
      "2025/07/10 00:17:33 INFO mlflow.store.model_registry.abstract_store: Waiting up to 300 seconds for model version to finish creation. Model name: laptop-pricing-model-brl, version 3\n",
      "Created version '3' of model 'laptop-pricing-model-brl'.\n"
     ]
    },
    {
     "data": {
      "text/plain": [
       "<ModelVersion: aliases=[], creation_timestamp=1752117453608, current_stage='None', description='', last_updated_timestamp=1752117453608, name='laptop-pricing-model-brl', run_id='9bc012b5212d41709b7c2626cc55f498', run_link='', source='mlflow-artifacts:/0ed9d89ca3b4429a81acfe440280248d/9bc012b5212d41709b7c2626cc55f498/artifacts/model', status='READY', status_message=None, tags={}, user_id='', version='3'>"
      ]
     },
     "execution_count": 19,
     "metadata": {},
     "output_type": "execute_result"
    }
   ],
   "source": [
    "run_id = \"9bc012b5212d41709b7c2626cc55f498\"\n",
    "mlflow.register_model(model_uri=f\"runs:/{run_id}/model\", name = \"laptop-pricing-model-brl\")"
   ]
  }
 ],
 "metadata": {
  "kernelspec": {
   "display_name": ".venv (3.13.2)",
   "language": "python",
   "name": "python3"
  },
  "language_info": {
   "codemirror_mode": {
    "name": "ipython",
    "version": 3
   },
   "file_extension": ".py",
   "mimetype": "text/x-python",
   "name": "python",
   "nbconvert_exporter": "python",
   "pygments_lexer": "ipython3",
   "version": "3.13.2"
  }
 },
 "nbformat": 4,
 "nbformat_minor": 5
}
